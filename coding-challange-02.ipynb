{
 "cells": [
  {
   "cell_type": "markdown",
   "metadata": {},
   "source": [
    "# Coding Challange - 02"
   ]
  },
  {
   "cell_type": "markdown",
   "metadata": {},
   "source": [
    "### Question 1:\n",
    "\n",
    "We have two lists of numbers given below. I want you to create a third list by picking an odd-indexed element from the first list and even-indexed elements from the second list.\n",
    "\n",
    "list_1 = [5, 10, 15, 20, 25, 30, 35]\n",
    "<br>list_2 = [7, 14, 21, 28, 35, 42, 49]\n",
    "\n",
    "#### Expected Output:\n",
    "\n",
    "[10, 20, 30, 7, 21, 35, 49]"
   ]
  },
  {
   "cell_type": "code",
   "execution_count": 3,
   "metadata": {},
   "outputs": [
    {
     "name": "stdout",
     "output_type": "stream",
     "text": [
      "[10, 20, 30, 7, 21, 35, 49]\n"
     ]
    }
   ],
   "source": [
    "list_1 = [5, 10, 15, 20, 25, 30, 35]\n",
    "list_2 = [7, 14, 21, 28, 35, 42, 49]\n",
    "\n",
    "print(list_1[1::2] + list_2[0::2])\n",
    "# can use extend to sum two different lists."
   ]
  },
  {
   "cell_type": "markdown",
   "metadata": {},
   "source": [
    "### Question 2:\n",
    "\n",
    "You have two dictionaries, with each of them containing several letters associated with certain values. \n",
    "\n",
    "num_1 = {'a' : 5,\n",
    "        's' : 7,\n",
    "        'x' : 11,\n",
    "        'm' : 12,\n",
    "        'o' : 8}\n",
    "\n",
    "num_2 = {'r' : 12,\n",
    "        'x' : 9,\n",
    "        'n' : 8,\n",
    "        'm' : 12,\n",
    "        'q' : 10}\n",
    "\n",
    "I want you to perform the below-mentioned operations on these dictionaries:\n",
    "\n",
    "\t1. Print out the letters which are common to both these dictionaries.\n",
    "\t2. Print out the (key, value) pair, which is common to both these dictionaries.\n",
    "\t3. Print out all the letters which have occurred only once in these dictionaries.\n",
    "\t4. Print out the letters in num_1 that are not present in num_2.\n",
    "\t5. Print out a new dictionary num_3, which contains unique letters of num_1 from the previous output with their \n",
    "       associated values.\n",
    "\n",
    "#### Expected Output:\n",
    "\n",
    "\t1. {'x', 'm'}\n",
    "    2. {('m', 12)}\n",
    "    3. {'o', 'a', 'n', 'q', 'r', 's'}\n",
    "    4. {'o', 'a', 's'}\n",
    "    5. {'o': 8, 'a': 5, 's': 7}"
   ]
  },
  {
   "cell_type": "code",
   "execution_count": 65,
   "metadata": {},
   "outputs": [
    {
     "name": "stdout",
     "output_type": "stream",
     "text": [
      "{'x', 'm'}\n"
     ]
    }
   ],
   "source": [
    "# 1. Print out the letters which are common to both these dictionaries.\n",
    "# {'x', 'm'}\n",
    "\n",
    "num_1 = {'a' : 5, 's' : 7, 'x' : 11, 'm' : 12, 'o' : 8}\n",
    "num_2 = {'r' : 12, 'x' : 9, 'n' : 8, 'm' : 12, 'q' : 10}\n",
    "\n",
    "# common_keys = num_1.keys() & num_2.keys()\n",
    "# print(common_keys)\n",
    "\n",
    "# common_keys = filter(lambda x: x in num_1,num_2)\n",
    "# for i in common_keys:\n",
    "#     print(i)\n",
    "\n",
    "# for i in num_1.keys() & num_2.keys():\n",
    "#     print(i)\n",
    "\n",
    "# for i in set(num_1).intersection(num_2):\n",
    "#     print(i)\n",
    "\n",
    "# for key in num_1:\n",
    "#     b = num_2.get(key,None)\n",
    "#     if b:\n",
    "#         print(key)\n",
    "\n",
    "print(num_1.keys() & num_2.keys())"
   ]
  },
  {
   "cell_type": "code",
   "execution_count": 68,
   "metadata": {},
   "outputs": [
    {
     "name": "stdout",
     "output_type": "stream",
     "text": [
      "{'m': 12}\n",
      "{('m', 12)}\n"
     ]
    }
   ],
   "source": [
    "# 2. Print out the (key, value) pair, which is common to both these dictionaries.\n",
    "# {('m', 12)}\n",
    "\n",
    "out={}\n",
    "for (x,y) in num_1.items():\n",
    "     if x in num_2 and num_2.get(x) == y:\n",
    "         out[x] = y\n",
    "print(out)\n",
    "\n",
    "# {'o', 'a', 'n', 'q', 'r', 's'}\n",
    "\n",
    "print(num_1.items() & num_2.items())"
   ]
  },
  {
   "cell_type": "code",
   "execution_count": 70,
   "metadata": {},
   "outputs": [
    {
     "name": "stdout",
     "output_type": "stream",
     "text": [
      "['a', 's', 'x', 'm', 'o', 'r', 'x', 'n', 'm', 'q']\n",
      "['a', 's', 'o', 'r', 'n', 'q']\n",
      "{'o', 'r', 'a', 's', 'n', 'q'}\n"
     ]
    }
   ],
   "source": [
    "#3. Print out all the letters which have occurred only once in these dictionaries.\n",
    "# {'o', 'a', 'n', 'q', 'r', 's'}\n",
    "\n",
    "num_1 = {'a' : 5, 's' : 7, 'x' : 11, 'm' : 12, 'o' : 8}\n",
    "num_2 = {'r' : 12, 'x' : 9, 'n' : 8, 'm' : 12, 'q' : 10}\n",
    "# {'o', 'a', 'n', 'q', 'r', 's'}\n",
    "out = {}\n",
    "\n",
    "lst_1 = list(num_1)\n",
    "lst_1.extend(list(num_2))\n",
    "print(lst_1)\n",
    "count = {}\n",
    "out = []\n",
    "\n",
    "for i in lst_1:\n",
    "    if count.get(i):\n",
    "        count[i] = count.get(i) + 1\n",
    "    else:\n",
    "        count[i] = 1\n",
    "\n",
    "for (x,y) in count.items():\n",
    "    if y==1:\n",
    "        out.append(x)\n",
    "\n",
    "print(out)\n",
    "print(num_1.keys() ^ num_2.keys())"
   ]
  },
  {
   "cell_type": "code",
   "execution_count": 22,
   "metadata": {},
   "outputs": [
    {
     "name": "stdout",
     "output_type": "stream",
     "text": [
      "{'o', 'a', 's'}\n"
     ]
    }
   ],
   "source": [
    "# Print out the letters in num_1 that are not present in num_2.\n",
    "# {'o', 'a', 's'}\n",
    "\n",
    "num_1 = {'a' : 5, 's' : 7, 'x' : 11, 'm' : 12, 'o' : 8}\n",
    "num_2 = {'r' : 12, 'x' : 9, 'n' : 8, 'm' : 12, 'q' : 10}\n",
    "\n",
    "print(set(num_1) - set(num_2))"
   ]
  },
  {
   "cell_type": "code",
   "execution_count": 72,
   "metadata": {},
   "outputs": [
    {
     "name": "stdout",
     "output_type": "stream",
     "text": [
      "{'o': 8, 'a': 5, 's': 7}\n"
     ]
    },
    {
     "data": {
      "text/plain": [
       "{'o': 8, 'a': 5, 's': 7}"
      ]
     },
     "execution_count": 72,
     "metadata": {},
     "output_type": "execute_result"
    }
   ],
   "source": [
    "# Print out a new dictionary num_3, which contains unique letters of num_1 from the previous output with their associated values.\n",
    "# {'o': 8, 'a': 5, 's': 7}\n",
    "\n",
    "set_1 = set(num_1) - set(num_2)\n",
    "num_3 = {}\n",
    "for i in set_1:\n",
    "    num_3[i] = num_1.get(i)\n",
    "\n",
    "print(num_3)\n",
    "\n",
    "# dictionary comprehension\n",
    "{ key:num_1[key] for key in set(num_1) - set(num_2)}"
   ]
  },
  {
   "cell_type": "markdown",
   "metadata": {},
   "source": [
    "### Question 3:\n",
    "\n",
    "Find out the number of letters and digits from the given alpha-numeric text.\n",
    "\n",
    "sample_text = \"Learning Journal 2020\"\n",
    "\n",
    "#### Expected Output:\n",
    "\n",
    "Number of Letters:  15\n",
    "<br>Number of Digits:  4"
   ]
  },
  {
   "cell_type": "code",
   "execution_count": 73,
   "metadata": {},
   "outputs": [
    {
     "name": "stdout",
     "output_type": "stream",
     "text": [
      "alpha count 15\n",
      "dig count 4\n",
      "4\n",
      "15\n"
     ]
    }
   ],
   "source": [
    "sample_text = \"Learning Journal 2020\"\n",
    "alphacount=0\n",
    "digcount = 0\n",
    "\n",
    "for i in sample_text:\n",
    "    if i.isalpha():\n",
    "        alphacount+=1\n",
    "    elif i.isdigit():\n",
    "        digcount +=1\n",
    "    else:\n",
    "        pass\n",
    "\n",
    "print(\"alpha count\" , alphacount)\n",
    "print(\"dig count\" , digcount)\n",
    "\n",
    "import re\n",
    "digs = len(re.findall(\"[0-9]\",sample_text))\n",
    "alpha = len(re.findall(\"[A-z]\", sample_text))\n",
    "print(digs)\n",
    "print(alpha)"
   ]
  },
  {
   "cell_type": "markdown",
   "metadata": {},
   "source": [
    "### Question 4:\n",
    "\n",
    "We have a list given below. Add an item 200 to the list, after the item 100.\n",
    "\n",
    "myList = [2, 8, [10, 20, [40, 60, [90, 100], 30, 70], 80], 50]\n",
    "\n",
    "#### Expected Output:\n",
    "\n",
    "[2, 8, [10, 20, [40, 60, [90, 100, 200], 30, 70], 80], 50]"
   ]
  },
  {
   "cell_type": "code",
   "execution_count": 34,
   "metadata": {},
   "outputs": [
    {
     "name": "stdout",
     "output_type": "stream",
     "text": [
      "[2, 8, [10, 20, [40, 60, [90, 100, 200], 30, 70], 80], 50]\n"
     ]
    }
   ],
   "source": [
    "myList = [2, 8, [10, 20, [40, 60, [90, 100], 30, 70], 80], 50]\n",
    "myList[2][2][2].append(200)\n",
    "print(myList)"
   ]
  },
  {
   "cell_type": "markdown",
   "metadata": {},
   "source": [
    "### Question 5:\n",
    "\n",
    "We have two sets given below. Print the first set again after removing the elements common to both of these sets.\n",
    "\n",
    "set_1 = {2, 8, 19, 13, 24, 55, 48, 93}\n",
    "<br>set_2 = {7, 11, 55, 84, 8, 65, 73, 13}\n",
    "\n",
    "#### Expected Output:\n",
    "\n",
    "{2, 48, 19, 24, 93}"
   ]
  },
  {
   "cell_type": "code",
   "execution_count": 74,
   "metadata": {},
   "outputs": [
    {
     "name": "stdout",
     "output_type": "stream",
     "text": [
      "{2, 48, 19, 24, 93}\n"
     ]
    }
   ],
   "source": [
    "set_1 = {2, 8, 19, 13, 24, 55, 48, 93}\n",
    "set_2 = {7, 11, 55, 84, 8, 65, 73, 13}\n",
    "\n",
    "common_set = set_1 & set_2\n",
    "\n",
    "for i in common_set:\n",
    "    set_1.remove(i)\n",
    "    \n",
    "print(set_1)"
   ]
  },
  {
   "cell_type": "markdown",
   "metadata": {},
   "source": [
    "### Question 6:\n",
    "\n",
    "Print all the prime numbers between the given range.\n",
    "\n",
    "start = 20\n",
    "<br>end = 60\n",
    "\n",
    "#### Expected Output:\n",
    "\n",
    "Prime numbers between 20 and 60 are: \n",
    "23\n",
    "<br>29\n",
    "<br>31\n",
    "<br>37\n",
    "<br>41\n",
    "<br>43\n",
    "<br>47\n",
    "<br>53\n",
    "<br>59"
   ]
  },
  {
   "cell_type": "code",
   "execution_count": 41,
   "metadata": {},
   "outputs": [
    {
     "name": "stdout",
     "output_type": "stream",
     "text": [
      "23\n",
      "29\n",
      "31\n",
      "37\n",
      "41\n",
      "43\n",
      "47\n",
      "53\n",
      "59\n"
     ]
    }
   ],
   "source": [
    "for i in range(20,61):\n",
    "    j = 2\n",
    "    max = i // 2\n",
    "    flag = True\n",
    "    while j < max:\n",
    "        if i % j == 0:\n",
    "            flag = False\n",
    "            break\n",
    "        j+=1\n",
    "    if flag:\n",
    "        print(i)"
   ]
  },
  {
   "cell_type": "markdown",
   "metadata": {},
   "source": [
    "### Question 7:\n",
    "\n",
    "Here we have a list of 3 letters. I want you to concatenate this list with another list of numbers whose range varies from 1 to 3 (3 is included).\n",
    "\n",
    "letters_list = ['H', 'R', 'S']\n",
    "\n",
    "#### Expected Output:\n",
    "\n",
    "['H1', 'R1', 'S1', 'H2', 'R2', 'S2', 'H3', 'R3', 'S3']"
   ]
  },
  {
   "cell_type": "code",
   "execution_count": 75,
   "metadata": {},
   "outputs": [
    {
     "name": "stdout",
     "output_type": "stream",
     "text": [
      "['H1', 'H2', 'H3', 'R1', 'R2', 'R3', 'S1', 'S2', 'S3']\n",
      "['H1', 'R1', 'S1', 'H2', 'R2', 'S2', 'H3', 'R3', 'S3']\n"
     ]
    }
   ],
   "source": [
    "letters_list = ['H', 'R', 'S']\n",
    "out = []\n",
    "for i in letters_list:\n",
    "    for j in range(1,4):\n",
    "        out.append(i + str(j))\n",
    "print(out)\n",
    "\n",
    "\n",
    "out = [x + str(y) for y in range(1,4) for x in letters_list]\n",
    "print(out)"
   ]
  },
  {
   "cell_type": "markdown",
   "metadata": {},
   "source": [
    "### Question 8:\n",
    "\n",
    "Print all the numbers between 1 and 100 (both being included) that are multiples of 3 and 5 both.\n",
    "\n",
    "#### Expected Output:\n",
    "\n",
    "Multiples of 3 and 5: [15, 30, 45, 60, 75, 90]"
   ]
  },
  {
   "cell_type": "code",
   "execution_count": 45,
   "metadata": {},
   "outputs": [
    {
     "name": "stdout",
     "output_type": "stream",
     "text": [
      "[15, 30, 45, 60, 75, 90]\n"
     ]
    }
   ],
   "source": [
    "out=[]\n",
    "for i in range(1,101):\n",
    "    if i % 3 ==0 and i%5 ==0:\n",
    "      out.append(i)\n",
    "print(out)"
   ]
  },
  {
   "cell_type": "markdown",
   "metadata": {},
   "source": [
    "### Question 9:\n",
    "\n",
    "Here we have a poem by Walt Whitman. I want you to print this poem once again after removing all the vowels from them.\n",
    "\n",
    "poem = \"Centre of equal daughters, equal sons,\\\n",
    "All, all alike endeared, grown, ungrown, young or old,\\\n",
    "Strong, ample, fair, enduring, capable, rich,\\\n",
    "Perennial with the Earth, with Freedom, Law and Love,\\\n",
    "A grand, sane, towering, seated Mother,\\\n",
    "Chaired in the adamant of Time.\"\n",
    "\n",
    "#### Expected Output:\n",
    "\n",
    "'Cntr f ql dghtrs, ql sns,All, ll lk ndr’d, grwn, ngrwn, yng r ld,Strng, mpl, fr, ndrng, cpbl, rch,Prnnl wth th Erth, wth Frdm, Lw nd Lv,A grnd, sn, twrng, std Mthr,Chr’d n th dmnt f Tm.'"
   ]
  },
  {
   "cell_type": "code",
   "execution_count": 80,
   "metadata": {},
   "outputs": [
    {
     "name": "stdout",
     "output_type": "stream",
     "text": [
      "Cntr f ql dghtrs, ql sns,\n",
      "ll, ll lk ndrd, grwn, ngrwn, yng r ld,\n",
      "Strng, mpl, fr, ndrng, cpbl, rch,\n",
      "Prnnl wth th rth, wth Frdm, Lw nd Lv,\n",
      " grnd, sn, twrng, std Mthr,\n",
      "Chrd n th dmnt f Tm.\n"
     ]
    }
   ],
   "source": [
    "poem = '''Centre of equal daughters, equal sons,\n",
    "All, all alike endeared, grown, ungrown, young or old,\n",
    "Strong, ample, fair, enduring, capable, rich,\n",
    "Perennial with the Earth, with Freedom, Law and Love,\n",
    "A grand, sane, towering, seated Mother,\n",
    "Chaired in the adamant of Time.'''\n",
    "\n",
    "import re\n",
    "\n",
    "out = \"\".join(re.findall(\"[^aeiouAEIOU]\", poem))\n",
    "# print(out)\n",
    "\n",
    "vowels = ['a','e','i','o','u','A','E','I','O','U']\n",
    "\n",
    "print(\"\".join([remove_vowel for remove_vowel in poem if remove_vowel not in vowels]))"
   ]
  },
  {
   "cell_type": "markdown",
   "metadata": {},
   "source": [
    "### Question 10:\n",
    "\n",
    "Here we have some information about Python programming extracted from Wikipedia. Find all the occurrences of the word 'python' in the given python_info, ignoring the case.\n",
    "\n",
    "python_info = \"Python is an interpreted, high-level, and general-purpose programming language.\\\n",
    "Python is dynamically typed and garbage-collected.\\\n",
    "Python was created in the late 1980s as a successor to the ABC language, Python 2.0.\\\n",
    "Python 3.0 was released in 2008.\\\n",
    "A non-profit organization, the Python Software Foundation, manages and directs resources for Python development.\"\n",
    "\n",
    "#### Expected Output:\n",
    "\n",
    "The 'Python' count in python_info is: 7"
   ]
  },
  {
   "cell_type": "code",
   "execution_count": 77,
   "metadata": {},
   "outputs": [
    {
     "name": "stdout",
     "output_type": "stream",
     "text": [
      "7\n"
     ]
    }
   ],
   "source": [
    "python_info = '''Python is an interpreted, high-level, and general-purpose programming language.\n",
    "Python is dynamically typed and garbage-collected.\n",
    "Python was created in the late 1980s as a successor to the ABC language, Python 2.0.\n",
    "Python 3.0 was released in 2008.\n",
    "A non-profit organization, the Python Software Foundation, manages and directs resources for Python development.'''\n",
    "\n",
    "# import re\n",
    "# count = len(re.findall(\"Python\", python_info))\n",
    "# print(count)\n",
    "\n",
    "\n",
    "py_latest = python_info.lower()\n",
    "print(py_latest.count(\"python\"))"
   ]
  },
  {
   "cell_type": "code",
   "execution_count": null,
   "metadata": {},
   "outputs": [],
   "source": []
  }
 ],
 "metadata": {
  "kernelspec": {
   "display_name": "Python 3 (ipykernel)",
   "language": "python",
   "name": "python3"
  },
  "language_info": {
   "codemirror_mode": {
    "name": "ipython",
    "version": 3
   },
   "file_extension": ".py",
   "mimetype": "text/x-python",
   "name": "python",
   "nbconvert_exporter": "python",
   "pygments_lexer": "ipython3",
   "version": "3.12.4"
  }
 },
 "nbformat": 4,
 "nbformat_minor": 4
}
