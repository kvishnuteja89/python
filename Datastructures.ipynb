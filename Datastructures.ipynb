{
 "cells": [
  {
   "cell_type": "code",
   "execution_count": 1,
   "id": "7e2a4d48-197a-4a83-8df5-042ac0df652b",
   "metadata": {},
   "outputs": [
    {
     "data": {
      "text/plain": [
       "[(10, 20, 200), (30, 40, 1200), (40, 10, 400)]"
      ]
     },
     "execution_count": 1,
     "metadata": {},
     "output_type": "execute_result"
    }
   ],
   "source": [
    "lst = [(10,20),(30,40),(40,10)]\n",
    "[(x,y,x*y) for (x,y) in lst]"
   ]
  },
  {
   "cell_type": "code",
   "execution_count": 11,
   "id": "ecd96127-1dd5-43c6-ba55-1d2b6c16612f",
   "metadata": {},
   "outputs": [
    {
     "data": {
      "text/plain": [
       "dict_values([102, 103, 104, 103])"
      ]
     },
     "execution_count": 11,
     "metadata": {},
     "output_type": "execute_result"
    }
   ],
   "source": [
    "dict = {'a': 102, 'b': 103, 'c': 104}\n",
    "dict['a']\n",
    "dict['d'] = 103\n",
    "\n",
    "dict.values()"
   ]
  },
  {
   "cell_type": "code",
   "execution_count": 20,
   "id": "eb4c71e5-26df-4543-bd17-ecd54ad67f87",
   "metadata": {},
   "outputs": [
    {
     "data": {
      "text/plain": [
       "[1, 2, 3, 4, 5, 6]"
      ]
     },
     "execution_count": 20,
     "metadata": {},
     "output_type": "execute_result"
    }
   ],
   "source": [
    "lst = [1,2,3]\n",
    "lst2 = [4,5,6]\n",
    "\n",
    "lst3 = lst + lst2\n",
    "lst3"
   ]
  },
  {
   "cell_type": "code",
   "execution_count": 22,
   "id": "8106bc98-5e6f-42d7-85b9-f790975e2601",
   "metadata": {},
   "outputs": [
    {
     "data": {
      "text/plain": [
       "{'a': 102, 'b': 103, 'c': 104, 'd': 102, 'e': 103, 'f': 104}"
      ]
     },
     "execution_count": 22,
     "metadata": {},
     "output_type": "execute_result"
    }
   ],
   "source": [
    "dict1 = {'a': 102, 'b': 103, 'c': 104}\n",
    "dict2 = {'d': 102, 'e': 103, 'f': 104}\n",
    "\n",
    "dict3 = {**dict1, **dict2}\n",
    "dict3\n"
   ]
  },
  {
   "cell_type": "code",
   "execution_count": 24,
   "id": "f8a26227-7b1b-4c45-b724-16ed2248bc8e",
   "metadata": {},
   "outputs": [
    {
     "name": "stdout",
     "output_type": "stream",
     "text": [
      "before {'a': 102, 'b': 103, 'c': 104}\n",
      "after {'a': 106, 'b': 103, 'c': 105, 'e': 107}\n"
     ]
    }
   ],
   "source": [
    "dict1 = {'a': 102, 'b': 103, 'c': 104}\n",
    "dict2 = {'a': 106, 'e': 107, 'c': 105}\n",
    "\n",
    "print(\"before\", dict1)\n",
    "dict1.update(dict2)\n",
    "print(\"after\", dict1)"
   ]
  },
  {
   "cell_type": "code",
   "execution_count": 25,
   "id": "82710da8-ba8a-49ce-80e2-47ca3965e92f",
   "metadata": {},
   "outputs": [
    {
     "name": "stdout",
     "output_type": "stream",
     "text": [
      "{'b': 103, 'c': 105, 'e': 107}\n"
     ]
    }
   ],
   "source": [
    "del(dict1['a'])\n",
    "print(dict1)"
   ]
  },
  {
   "cell_type": "code",
   "execution_count": 26,
   "id": "70ef92a0-a013-4761-8c0f-7eed28448d25",
   "metadata": {},
   "outputs": [],
   "source": [
    "del dict1"
   ]
  },
  {
   "cell_type": "code",
   "execution_count": 27,
   "id": "d8bae2fb-24ef-45ff-ae78-de86dd45a712",
   "metadata": {},
   "outputs": [
    {
     "ename": "NameError",
     "evalue": "name 'dict1' is not defined",
     "output_type": "error",
     "traceback": [
      "\u001b[1;31m---------------------------------------------------------------------------\u001b[0m",
      "\u001b[1;31mNameError\u001b[0m                                 Traceback (most recent call last)",
      "Cell \u001b[1;32mIn[27], line 1\u001b[0m\n\u001b[1;32m----> 1\u001b[0m dict1\n",
      "\u001b[1;31mNameError\u001b[0m: name 'dict1' is not defined"
     ]
    }
   ],
   "source": [
    "dict1"
   ]
  },
  {
   "cell_type": "code",
   "execution_count": 29,
   "id": "35caf0dc-a160-4b49-8a4b-3525d70a23bd",
   "metadata": {},
   "outputs": [
    {
     "data": {
      "text/plain": [
       "{}"
      ]
     },
     "execution_count": 29,
     "metadata": {},
     "output_type": "execute_result"
    }
   ],
   "source": [
    "dict1 = {'a': 102, 'b': 103, 'c': 104}\n",
    "dict1.clear()\n",
    "dict1"
   ]
  },
  {
   "cell_type": "markdown",
   "id": "e9a52085-c478-4326-86b4-63a9c7bf9555",
   "metadata": {},
   "source": [
    "# IN operator checks keys in dictionary"
   ]
  },
  {
   "cell_type": "code",
   "execution_count": 32,
   "id": "740c2839-6545-4512-8cb5-a49c05540f6c",
   "metadata": {},
   "outputs": [
    {
     "data": {
      "text/plain": [
       "True"
      ]
     },
     "execution_count": 32,
     "metadata": {},
     "output_type": "execute_result"
    }
   ],
   "source": [
    "dict1 = {'a': 102, 'b': 103, 'c': 104}\n",
    "'a' in dict1"
   ]
  },
  {
   "cell_type": "code",
   "execution_count": 35,
   "id": "441a05bc-9533-442a-aabd-8fabf43a9824",
   "metadata": {},
   "outputs": [
    {
     "name": "stdout",
     "output_type": "stream",
     "text": [
      "True\n",
      "True\n"
     ]
    }
   ],
   "source": [
    "dict1 = {'a': 102, 'b': 103, 'c': 104}\n",
    "dict2 = {'a': 102, 'b': 103, 'c': 104}\n",
    "\n",
    "print(dict1 == dict2)\n",
    "\n",
    "dict3 = {'a': 102, 'b': 103, 'c': 105}\n",
    "\n",
    "print(dict1 != dict3)"
   ]
  },
  {
   "cell_type": "markdown",
   "id": "936f97b3-e681-4f08-8342-54883acf1e07",
   "metadata": {},
   "source": [
    "# copy() method does shallow copy of data in dictionary"
   ]
  },
  {
   "cell_type": "code",
   "execution_count": 40,
   "id": "c4ddf62f-9768-49a6-aec4-09c9311e708b",
   "metadata": {},
   "outputs": [
    {
     "name": "stdout",
     "output_type": "stream",
     "text": [
      "{'a': 102, 'b': 103, 'c': 105}\n",
      "{'a': 102, 'b': 103, 'c': 105}\n"
     ]
    }
   ],
   "source": [
    "dict4 = dict1.copy()\n",
    "dict4\n",
    "\n",
    "dict1['c'] = 105\n",
    "\n",
    "print(dict1)\n",
    "print(dict4)"
   ]
  },
  {
   "cell_type": "code",
   "execution_count": 45,
   "id": "bd77dacd-8d53-473d-9865-30170e399da2",
   "metadata": {},
   "outputs": [
    {
     "name": "stdout",
     "output_type": "stream",
     "text": [
      "{'a': 102, 'b': 999, 'c': ['fight', 'Fun']}\n",
      "{'a': 102, 'b': 999, 'c': ['fight', 'Fun']}\n"
     ]
    }
   ],
   "source": [
    "dict1 = {'a': 102, 'b':999, 'c':['play', 'Fun']}\n",
    "dict2 = dict1.copy()\n",
    "\n",
    "dict1['c'][0] = 'fight'\n",
    "print(dict1)\n",
    "print(dict2)"
   ]
  },
  {
   "cell_type": "markdown",
   "id": "92f191a3-62d8-449d-87a1-daed2f94a7b2",
   "metadata": {},
   "source": [
    "# Deep copy to the rescue"
   ]
  },
  {
   "cell_type": "code",
   "execution_count": 47,
   "id": "d71ef35f-bac8-4dcf-950d-1156a52e2d43",
   "metadata": {},
   "outputs": [
    {
     "name": "stdout",
     "output_type": "stream",
     "text": [
      "{'a': 102, 'b': 999, 'c': ['Fight', 'Fun']}\n",
      "{'a': 102, 'b': 999, 'c': ['play', 'Fun']}\n"
     ]
    }
   ],
   "source": [
    "import copy\n",
    "\n",
    "dict1 = {'a': 102, 'b':999, 'c':['play', 'Fun']}\n",
    "dict2 = copy.deepcopy(dict1)\n",
    "dict1['c'][0] = 'Fight'\n",
    "print(dict1)\n",
    "print(dict2)\n"
   ]
  },
  {
   "cell_type": "markdown",
   "id": "1fd3942b-a720-47b3-bd22-4ecc53039128",
   "metadata": {},
   "source": [
    "# Dictionary Comprehension"
   ]
  },
  {
   "cell_type": "code",
   "execution_count": 51,
   "id": "4ada6293-3754-46bf-9e62-64e54c5e59de",
   "metadata": {},
   "outputs": [
    {
     "name": "stdout",
     "output_type": "stream",
     "text": [
      "{('b', 36), ('c', 100), ('a', 25)}\n"
     ]
    }
   ],
   "source": [
    "dict1 = {'a': 5, 'b': 6, 'c': 10}\n",
    "squares = {(x,y*y) for (x,y) in dict1.items()}\n",
    "print(squares)\n"
   ]
  },
  {
   "cell_type": "code",
   "execution_count": 59,
   "id": "b31346e6-794b-445c-b708-b657a5f883da",
   "metadata": {},
   "outputs": [
    {
     "name": "stdout",
     "output_type": "stream",
     "text": [
      "a\n",
      "5\n",
      "b\n",
      "6\n",
      "c\n",
      "10\n"
     ]
    }
   ],
   "source": [
    "dict1 = {'a': 5, 'b': 6, 'c': 10}\n",
    "\n",
    "for x in dict1.keys():\n",
    "    print(x)\n",
    "    print(dict1[x])"
   ]
  },
  {
   "cell_type": "markdown",
   "id": "998aae57-37c1-42bf-9970-332f00f1d4b8",
   "metadata": {},
   "source": [
    "# unpacking the array"
   ]
  },
  {
   "cell_type": "code",
   "execution_count": 63,
   "id": "f6fbc717-e7c8-4408-9ff8-f94ec883060b",
   "metadata": {},
   "outputs": [
    {
     "name": "stdout",
     "output_type": "stream",
     "text": [
      "1 2 3 4 5\n"
     ]
    }
   ],
   "source": [
    "lst = [1,2,3,4,5]\n",
    "print(*lst)"
   ]
  },
  {
   "cell_type": "markdown",
   "id": "4e9d1dad-c50d-4077-a765-8cdf884bc15c",
   "metadata": {},
   "source": [
    "# Set to remove duplicates"
   ]
  },
  {
   "cell_type": "code",
   "execution_count": 65,
   "id": "951b79a7-8c15-4757-a5fb-18b0bfd63a0c",
   "metadata": {},
   "outputs": [
    {
     "data": {
      "text/plain": [
       "set"
      ]
     },
     "execution_count": 65,
     "metadata": {},
     "output_type": "execute_result"
    }
   ],
   "source": [
    "set1 = {1,2,3,4}\n",
    "type(set1)"
   ]
  },
  {
   "cell_type": "code",
   "execution_count": 73,
   "id": "5d5ee0fe-2a76-4546-97e5-d76bc690d6fe",
   "metadata": {},
   "outputs": [
    {
     "name": "stdout",
     "output_type": "stream",
     "text": [
      "{1, 2, 3, 4, 5, 6}\n"
     ]
    },
    {
     "data": {
      "text/plain": [
       "set"
      ]
     },
     "execution_count": 73,
     "metadata": {},
     "output_type": "execute_result"
    }
   ],
   "source": [
    "set2 = set([1,2,3,4,5,6,4,5])\n",
    "# set2.add([1,2,3])\n",
    "print(set2)\n",
    "type(set2)"
   ]
  },
  {
   "cell_type": "code",
   "execution_count": 106,
   "id": "fce1dcc2-52ed-4eaf-a19d-b262607cb2d8",
   "metadata": {},
   "outputs": [
    {
     "name": "stdout",
     "output_type": "stream",
     "text": [
      "Counter({4: 2, 5: 2, 1: 1, 2: 1, 3: 1, 6: 1})\n",
      "<class 'collections.Counter'>\n",
      "<itertools.chain object at 0x000001FD4A756F20>\n",
      "1\n",
      "2\n",
      "3\n",
      "6\n"
     ]
    }
   ],
   "source": [
    "from collections import Counter\n",
    "mylst = [1,2,3,4,5,6,4,5]\n",
    "c_lst = Counter(mylst)\n",
    "print(c_lst)    \n",
    "print(type(c_lst))\n",
    "print(c_lst.elements())\n",
    "\n",
    "# for i in c_lst.elements():\n",
    "#     print(i)\n",
    "\n",
    "for x,y in c_lst.items():\n",
    "    if y==1:\n",
    "        print(x)\n"
   ]
  },
  {
   "cell_type": "markdown",
   "id": "eb9b8a6f-5844-404f-b65f-b731c1927b91",
   "metadata": {},
   "source": [
    "# Removing duplicates from given string"
   ]
  },
  {
   "cell_type": "code",
   "execution_count": 86,
   "id": "f1b24eb2-1f73-4613-8beb-fd1e2d0636c5",
   "metadata": {},
   "outputs": [
    {
     "name": "stdout",
     "output_type": "stream",
     "text": [
      "{'u', 'i', 'J', 'e', 'a', 'g', 'n', 'r', 'L', ' ', 'l', 'o'}\n"
     ]
    }
   ],
   "source": [
    "str = \"Learning Journal\"\n",
    "\n",
    "print(set(str))"
   ]
  },
  {
   "cell_type": "code",
   "execution_count": 89,
   "id": "305848cc-abf9-4a40-b136-0dc5e1ad4070",
   "metadata": {},
   "outputs": [
    {
     "name": "stdout",
     "output_type": "stream",
     "text": [
      "{'u', 'i', 'e', 'a', 'g', 'n', 'r', 'l', ' ', 'o', 'j'}\n"
     ]
    }
   ],
   "source": [
    "print(set(str.lower()))"
   ]
  },
  {
   "cell_type": "markdown",
   "id": "3db32951-f30e-4489-9c2b-0b17b85d854f",
   "metadata": {},
   "source": [
    "# Converting different datastructures to set"
   ]
  },
  {
   "cell_type": "code",
   "execution_count": 90,
   "id": "42140ac6-f9c7-40b2-a010-f986fc5cb6a7",
   "metadata": {},
   "outputs": [
    {
     "data": {
      "text/plain": [
       "{1, 2, 3, 4}"
      ]
     },
     "execution_count": 90,
     "metadata": {},
     "output_type": "execute_result"
    }
   ],
   "source": [
    "lst = [1,2,3,4]\n",
    "set(lst)"
   ]
  },
  {
   "cell_type": "code",
   "execution_count": 91,
   "id": "e3088cbb-5eda-4d47-913d-004b35e17f93",
   "metadata": {},
   "outputs": [
    {
     "data": {
      "text/plain": [
       "{1, 2, 3}"
      ]
     },
     "execution_count": 91,
     "metadata": {},
     "output_type": "execute_result"
    }
   ],
   "source": [
    "tup = (1,2,3)\n",
    "set(tup)"
   ]
  },
  {
   "cell_type": "code",
   "execution_count": 92,
   "id": "03b915ef-67ae-420d-90a8-c874851ac674",
   "metadata": {},
   "outputs": [
    {
     "data": {
      "text/plain": [
       "{1, 2, 3}"
      ]
     },
     "execution_count": 92,
     "metadata": {},
     "output_type": "execute_result"
    }
   ],
   "source": [
    "dict = {1:'abc', 2:'def', 3:'ghi'}\n",
    "set(dict)"
   ]
  },
  {
   "cell_type": "code",
   "execution_count": 93,
   "id": "61c25b63-5541-4808-9462-8fc28da6e48b",
   "metadata": {},
   "outputs": [
    {
     "data": {
      "text/plain": [
       "{1, 2, 34}"
      ]
     },
     "execution_count": 93,
     "metadata": {},
     "output_type": "execute_result"
    }
   ],
   "source": [
    "set1 = {1,2,34}\n",
    "set2 = {1,2,88,30,34}\n",
    "\n",
    "set1.intersection(set2)"
   ]
  },
  {
   "cell_type": "code",
   "execution_count": 94,
   "id": "02254e53-04ad-4c25-9ecd-4bb63b5f131a",
   "metadata": {},
   "outputs": [
    {
     "data": {
      "text/plain": [
       "{1, 2, 30, 34, 88}"
      ]
     },
     "execution_count": 94,
     "metadata": {},
     "output_type": "execute_result"
    }
   ],
   "source": [
    "set1.union(set2)"
   ]
  },
  {
   "cell_type": "markdown",
   "id": "519637df-8c1a-449c-88c6-b4647db878e8",
   "metadata": {},
   "source": [
    "# symmetric_difference - Present in set1, set2 but not in both, Anything other than overlap"
   ]
  },
  {
   "cell_type": "code",
   "execution_count": 110,
   "id": "73f74f59-1981-432b-ba41-0ff9ac7f9412",
   "metadata": {},
   "outputs": [
    {
     "name": "stdout",
     "output_type": "stream",
     "text": [
      "{88, 30}\n",
      "{88, 30}\n"
     ]
    }
   ],
   "source": [
    "print(set2 ^ set1)\n",
    "print(set2.symmetric_difference(set1))"
   ]
  },
  {
   "cell_type": "markdown",
   "id": "86e57c75-1596-415a-9deb-5b5df3465bc6",
   "metadata": {},
   "source": [
    "# So extraction and slicing cant be performed on the set as it is an unordered structure."
   ]
  },
  {
   "cell_type": "code",
   "execution_count": 111,
   "id": "20953ce6-655e-431d-9005-546ae7952bf1",
   "metadata": {},
   "outputs": [
    {
     "data": {
      "text/plain": [
       "True"
      ]
     },
     "execution_count": 111,
     "metadata": {},
     "output_type": "execute_result"
    }
   ],
   "source": [
    "set1.issubset(set2)"
   ]
  },
  {
   "cell_type": "code",
   "execution_count": 112,
   "id": "501c0325-032b-4a75-84b3-aa434681e849",
   "metadata": {},
   "outputs": [
    {
     "data": {
      "text/plain": [
       "False"
      ]
     },
     "execution_count": 112,
     "metadata": {},
     "output_type": "execute_result"
    }
   ],
   "source": [
    "set2.issubset(set1)"
   ]
  },
  {
   "cell_type": "code",
   "execution_count": 113,
   "id": "f2cbb182-38fd-4bc0-9cd0-19f9aba7179d",
   "metadata": {},
   "outputs": [
    {
     "data": {
      "text/plain": [
       "True"
      ]
     },
     "execution_count": 113,
     "metadata": {},
     "output_type": "execute_result"
    }
   ],
   "source": [
    "set2.issuperset(set1)"
   ]
  }
 ],
 "metadata": {
  "kernelspec": {
   "display_name": "Python 3 (ipykernel)",
   "language": "python",
   "name": "python3"
  },
  "language_info": {
   "codemirror_mode": {
    "name": "ipython",
    "version": 3
   },
   "file_extension": ".py",
   "mimetype": "text/x-python",
   "name": "python",
   "nbconvert_exporter": "python",
   "pygments_lexer": "ipython3",
   "version": "3.12.4"
  }
 },
 "nbformat": 4,
 "nbformat_minor": 5
}
