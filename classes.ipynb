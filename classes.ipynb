{
 "cells": [
  {
   "cell_type": "code",
   "execution_count": 3,
   "id": "29015999-bb79-4719-88a7-7beb575b35f8",
   "metadata": {},
   "outputs": [
    {
     "name": "stdout",
     "output_type": "stream",
     "text": [
      "Hello Vishnu\n"
     ]
    }
   ],
   "source": [
    "class MyClass:\n",
    "    my_var = 1234\n",
    "    def fn(name):\n",
    "        print(\"Hello\", name)\n",
    "\n",
    "MyClass.my_var\n",
    "MyClass.fn(\"Vishnu\")"
   ]
  },
  {
   "cell_type": "code",
   "execution_count": 6,
   "id": "7a89e6b9-6e24-4149-8f2b-3f5f339131f4",
   "metadata": {},
   "outputs": [
    {
     "name": "stdout",
     "output_type": "stream",
     "text": [
      "i20\n",
      "i20 Hyundai\n",
      "T20\n",
      "T20 Hyundai2\n"
     ]
    }
   ],
   "source": [
    "class Car:\n",
    "    def __init__(self,name,brand):\n",
    "        self.name = name\n",
    "        self.brand = brand\n",
    "    def printMyName(self):\n",
    "        print(self.name, self.brand)\n",
    "\n",
    "car1 = Car(\"i20\",\"Hyundai\")\n",
    "print(car1.name)\n",
    "car1.printMyName();\n",
    "\n",
    "car2 = Car(\"T20\",\"Hyundai2\")\n",
    "print(car2.name)\n",
    "car2.printMyName();"
   ]
  },
  {
   "cell_type": "code",
   "execution_count": 7,
   "id": "bc8b8b16-89fa-4ec8-a741-d1a36de85f12",
   "metadata": {},
   "outputs": [],
   "source": [
    "# class Inheritance"
   ]
  }
 ],
 "metadata": {
  "kernelspec": {
   "display_name": "Python 3 (ipykernel)",
   "language": "python",
   "name": "python3"
  },
  "language_info": {
   "codemirror_mode": {
    "name": "ipython",
    "version": 3
   },
   "file_extension": ".py",
   "mimetype": "text/x-python",
   "name": "python",
   "nbconvert_exporter": "python",
   "pygments_lexer": "ipython3",
   "version": "3.12.4"
  }
 },
 "nbformat": 4,
 "nbformat_minor": 5
}
