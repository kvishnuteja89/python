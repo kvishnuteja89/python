{
 "cells": [
  {
   "cell_type": "markdown",
   "metadata": {},
   "source": [
    "# Practice Exercise - 01"
   ]
  },
  {
   "cell_type": "markdown",
   "metadata": {},
   "source": [
    "### Question 1:\n",
    "\n",
    "There are two numbers given below. Print the sum of these numbers if their product is greater than 100. Otherwise, print their product.\n",
    "\n",
    "a = 15\n",
    "<br>b = 12\n",
    "\n",
    "#### Expected Output:\n",
    "\n",
    "27"
   ]
  },
  {
   "cell_type": "code",
   "execution_count": 1,
   "metadata": {},
   "outputs": [
    {
     "name": "stdout",
     "output_type": "stream",
     "text": [
      "27\n"
     ]
    }
   ],
   "source": [
    "a = 15\n",
    "b = 12\n",
    "if a*b > 100:\n",
    "    print(a+b)\n",
    "else:\n",
    "    print(a*b)"
   ]
  },
  {
   "cell_type": "markdown",
   "metadata": {},
   "source": [
    "### Question 2:\n",
    "\n",
    "Write a Python program to print the volume of a cone whose height and diameter are given below. (Take pi = 3.14)\n",
    "\n",
    "h = 10\n",
    "<br>d = 13\n",
    "\n",
    "#### Expected Output:\n",
    "\n",
    "442.21666666666664"
   ]
  },
  {
   "cell_type": "code",
   "execution_count": 1,
   "metadata": {},
   "outputs": [
    {
     "name": "stdout",
     "output_type": "stream",
     "text": [
      "442.21666666666664\n"
     ]
    }
   ],
   "source": [
    "from math import pow\n",
    "h = 10\n",
    "d = 13\n",
    "volume = ((3.14) * (d/2) * (d/2) * h) /3\n",
    "volume2 = 3.14 * pow((d/2),2) * h / 3\n",
    "volume3 = 3.14 * (d/2)**2 * h / 3\n",
    "print(volume3)"
   ]
  },
  {
   "cell_type": "markdown",
   "metadata": {},
   "source": [
    "### Question 3:\n",
    "\n",
    "We have the name and seat numbers of a student given below as two tuples. With this given data, print the students' names and their assigned seat numbers in a single line using the appropriate data type.\n",
    "\n",
    "name = ('Shaun', 'Ron', 'Michael')\n",
    "<br>seat_numbers = (101, 102, 103)\n",
    "\n",
    "#### Expected Output:\n",
    "\n",
    "{'Shaun': 101, 'Ron': 102, 'Michael': 103}"
   ]
  },
  {
   "cell_type": "code",
   "execution_count": 16,
   "metadata": {},
   "outputs": [
    {
     "name": "stdout",
     "output_type": "stream",
     "text": [
      "{'Shaun': 101, 'Ron': 102, 'Michael': 103}\n",
      "{'Shaun': 101, 'Ron': 102, 'Michael': 103}\n"
     ]
    }
   ],
   "source": [
    "dict = {}\n",
    "name = ('Shaun', 'Ron', 'Michael')\n",
    "seat_numbers = (101, 102, 103)\n",
    "\n",
    "j=0\n",
    "for i in name:\n",
    "    dict[i] = seat_numbers[j]\n",
    "    j = j+1\n",
    "\n",
    "print(dict)\n",
    "\n",
    "for x,y in enumerate(name):\n",
    "    # print(x)\n",
    "    # print(y)\n",
    "    dict[y] = seat_numbers[x]\n",
    "\n",
    "print(dict)\n",
    "\n"
   ]
  },
  {
   "cell_type": "markdown",
   "metadata": {},
   "source": [
    "### Question 4:\n",
    "\n",
    "We have a number given below. If the number is greater than 0, add 1 to it. Otherwise, subtract 1 from it, and print the new number obtained.\n",
    "\n",
    "num = -6\n",
    "\n",
    "#### Expected Output:\n",
    "\n",
    "-7"
   ]
  },
  {
   "cell_type": "code",
   "execution_count": 19,
   "metadata": {},
   "outputs": [
    {
     "name": "stdout",
     "output_type": "stream",
     "text": [
      "-7\n",
      "-7\n"
     ]
    }
   ],
   "source": [
    "num = -6\n",
    "if num > 0:\n",
    "    print(num+1)\n",
    "else:\n",
    "    print(num-1)\n",
    "\n",
    "# a if condition else b\n",
    "print(num + 1) if num>0 else print(num-1)"
   ]
  },
  {
   "cell_type": "markdown",
   "metadata": {},
   "source": [
    "### Question 5:\n",
    "\n",
    "I have four variables, each assigned with certain values given below. A massive expression line follows it. Re-write the expression which suits the desired lexical model.\n",
    "\n",
    "a = 5\n",
    "<br>b = 2\n",
    "<br>c = 8\n",
    "<br>d = 7\n",
    "\n",
    "x = (((a + b) * (a + c) * (a + d)) / ((b + a) * (b + c) * (b + d)) / ((c + a) * (c + b) * (c + d))) * (a * b * c * d)\n",
    "\n",
    "#### Expected Output:\n",
    "\n",
    "0.4977777777777778"
   ]
  },
  {
   "cell_type": "code",
   "execution_count": 2,
   "metadata": {},
   "outputs": [
    {
     "name": "stdout",
     "output_type": "stream",
     "text": [
      "0.4977777777777778\n"
     ]
    }
   ],
   "source": [
    "a = 5\n",
    "b = 2\n",
    "c = 8\n",
    "d = 7\n",
    "\n",
    "lex = ((((a + b) * (a + c) * (a + d)) \\\n",
    " / ((b + a) * (b + c) * (b + d)) \\\n",
    " / ((c + a) * (c + b) * (c + d))) \\\n",
    "* (a * b * c * d))\n",
    "\n",
    "print(lex)\n"
   ]
  },
  {
   "cell_type": "markdown",
   "metadata": {},
   "source": [
    "### Question 6:\n",
    "\n",
    "There are two numbers given below. Compare them and print the result obtained.\n",
    "\n",
    "a = 5\n",
    "<br>b = 9\n",
    "\n",
    "#### Expected Output:\n",
    "\n",
    "b is greater than a"
   ]
  },
  {
   "cell_type": "code",
   "execution_count": 21,
   "metadata": {},
   "outputs": [
    {
     "name": "stdout",
     "output_type": "stream",
     "text": [
      "b is greater than a\n"
     ]
    }
   ],
   "source": [
    "a = 5\n",
    "b = 9\n",
    "print(\"a is greater than b\") if a > b else print(\"b is greater than a\")"
   ]
  },
  {
   "cell_type": "markdown",
   "metadata": {},
   "source": [
    "### Question 7:\n",
    "\n",
    "We have a set given below. Find out whether 10 and 7 are present in the given set or not.\n",
    "\n",
    "mySet = {5, 7, 2, 6, 3}\n",
    "\n",
    "#### Expected Output:\n",
    "\n",
    "False\n",
    "<br>True"
   ]
  },
  {
   "cell_type": "code",
   "execution_count": 4,
   "metadata": {},
   "outputs": [
    {
     "name": "stdout",
     "output_type": "stream",
     "text": [
      "False\n",
      "True\n"
     ]
    }
   ],
   "source": [
    "myset = {5,7,2,6,3}\n",
    "subset = {10,7}\n",
    "# print(subset.issubset(myset))\n",
    "# print(not subset.issubset(myset))\n",
    "\n",
    "validate10 = 10 in myset\n",
    "validate7 = 7 in myset\n",
    "\n",
    "print(validate10)\n",
    "print(validate7)\n",
    "\n",
    "# print(subset <= myset)"
   ]
  },
  {
   "cell_type": "markdown",
   "metadata": {},
   "source": [
    "### Question 8:\n",
    "\n",
    "We have a number given below. Write a program to check for the divisibility of this number by 3 and 5, and print the result obtained.\n",
    "\n",
    "a = 12\n",
    "\n",
    "#### Expected Output:\n",
    "\n",
    "a is divisible by either 3 or 5, but not both"
   ]
  },
  {
   "cell_type": "code",
   "execution_count": null,
   "metadata": {},
   "outputs": [],
   "source": []
  },
  {
   "cell_type": "markdown",
   "metadata": {},
   "source": [
    "### Question 9:\n",
    "\n",
    "Write a Python program to check if the given year is a leap year.\n",
    "\n",
    "year = 1996\n",
    "\n",
    "#### Expected Output:\n",
    "\n",
    "Leap Year"
   ]
  },
  {
   "cell_type": "code",
   "execution_count": null,
   "metadata": {},
   "outputs": [],
   "source": []
  },
  {
   "cell_type": "markdown",
   "metadata": {},
   "source": [
    "### Question 10:\n",
    "\n",
    "I have an examination form that requires the following information.\n",
    "\n",
    "Name, Age, Roll Number, and Subjects. \n",
    "\n",
    "Declare the parameters mentioned above with a suitable data type, and then assign some values to it, and finally print the result.\n",
    "\n",
    "#### Expected Output:\n",
    "\n",
    "Name:  Sachin\n",
    "<br>Age:  17\n",
    "<br>Roll Number:  528841\n",
    "<br>Subjects:  ['Maths', 'Physics', 'Chemistry', 'Computer Science', 'English']"
   ]
  },
  {
   "cell_type": "code",
   "execution_count": 11,
   "metadata": {},
   "outputs": [
    {
     "name": "stdin",
     "output_type": "stream",
     "text": [
      "Name ddd\n",
      "Age 12\n",
      "RollNumber 98988\n",
      "subjects ['ab','bc']\n"
     ]
    },
    {
     "name": "stdout",
     "output_type": "stream",
     "text": [
      "ddd\n",
      "12\n",
      "98988\n",
      "['ab','bc']\n"
     ]
    }
   ],
   "source": [
    "name = input(\"Name\")\n",
    "age = int(input(\"Age\"))\n",
    "rollnumber = int(input(\"RollNumber\"))\n",
    "subjects = []\n",
    "subjects = (input(\"subjects\"))\n",
    "\n",
    "print(name);\n",
    "print(age);\n",
    "print(rollnumber);\n",
    "print(subjects)\n"
   ]
  },
  {
   "cell_type": "code",
   "execution_count": 36,
   "metadata": {},
   "outputs": [
    {
     "name": "stdout",
     "output_type": "stream",
     "text": [
      "['ttt', 'dd', 'test', 'hello', 'ggg']\n"
     ]
    }
   ],
   "source": [
    "lst = ['test','hello', 'ggg']\n",
    "lst2 = ['ttt', 'dd'] + lst\n",
    "print(lst2)"
   ]
  }
 ],
 "metadata": {
  "kernelspec": {
   "display_name": "Python 3 (ipykernel)",
   "language": "python",
   "name": "python3"
  },
  "language_info": {
   "codemirror_mode": {
    "name": "ipython",
    "version": 3
   },
   "file_extension": ".py",
   "mimetype": "text/x-python",
   "name": "python",
   "nbconvert_exporter": "python",
   "pygments_lexer": "ipython3",
   "version": "3.12.4"
  }
 },
 "nbformat": 4,
 "nbformat_minor": 4
}
