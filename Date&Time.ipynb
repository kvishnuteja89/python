{
 "cells": [
  {
   "cell_type": "markdown",
   "id": "1837da87-5fbf-40c0-9fd1-6f5b6bf50d83",
   "metadata": {},
   "source": [
    "# Date & Time module"
   ]
  },
  {
   "cell_type": "code",
   "execution_count": 7,
   "id": "9811c6e0-472c-491f-9121-d82f76dc20ba",
   "metadata": {},
   "outputs": [
    {
     "name": "stdout",
     "output_type": "stream",
     "text": [
      "1990-04-30\n"
     ]
    },
    {
     "data": {
      "text/plain": [
       "0"
      ]
     },
     "execution_count": 7,
     "metadata": {},
     "output_type": "execute_result"
    }
   ],
   "source": [
    "from datetime import date\n",
    "dt = date(1990,4,30)\n",
    "print(dt)\n",
    "\n",
    "dt.day\n",
    "dt.month\n",
    "dt.year\n",
    "\n",
    "dt.weekday()\n",
    "dt.replace\n"
   ]
  },
  {
   "cell_type": "code",
   "execution_count": 9,
   "id": "d8bc799c-37c3-48a1-a892-f529eabdbc4e",
   "metadata": {},
   "outputs": [
    {
     "data": {
      "text/plain": [
       "'Monday 30 - Apr 1990'"
      ]
     },
     "execution_count": 9,
     "metadata": {},
     "output_type": "execute_result"
    }
   ],
   "source": [
    "# String version of date of birth\n",
    "dt.strftime(\"%A %d - %b %Y\")"
   ]
  },
  {
   "cell_type": "code",
   "execution_count": 12,
   "id": "c4267a86-31b9-4937-bd50-5b4a04445bd0",
   "metadata": {},
   "outputs": [
    {
     "name": "stdout",
     "output_type": "stream",
     "text": [
      "10:39:50.098989\n"
     ]
    }
   ],
   "source": [
    "from datetime import time\n",
    "\n",
    "dt = time(10,39,50,98989)\n",
    "print(dt)"
   ]
  },
  {
   "cell_type": "code",
   "execution_count": 13,
   "id": "6a385ef9-e281-4765-8bad-aa489233ea67",
   "metadata": {},
   "outputs": [
    {
     "ename": "ValueError",
     "evalue": "second must be in 0..59",
     "output_type": "error",
     "traceback": [
      "\u001b[1;31m---------------------------------------------------------------------------\u001b[0m",
      "\u001b[1;31mValueError\u001b[0m                                Traceback (most recent call last)",
      "Cell \u001b[1;32mIn[13], line 4\u001b[0m\n\u001b[0;32m      1\u001b[0m \u001b[38;5;28;01mfrom\u001b[39;00m \u001b[38;5;21;01mdatetime\u001b[39;00m \u001b[38;5;28;01mimport\u001b[39;00m time\n\u001b[0;32m      3\u001b[0m \u001b[38;5;66;03m# it validates the values passed\u001b[39;00m\n\u001b[1;32m----> 4\u001b[0m dt \u001b[38;5;241m=\u001b[39m time(\u001b[38;5;241m10\u001b[39m,\u001b[38;5;241m39\u001b[39m,\u001b[38;5;241m61\u001b[39m,\u001b[38;5;241m98989\u001b[39m)\n\u001b[0;32m      5\u001b[0m \u001b[38;5;28mprint\u001b[39m(dt)\n",
      "\u001b[1;31mValueError\u001b[0m: second must be in 0..59"
     ]
    }
   ],
   "source": [
    "from datetime import time\n",
    "\n",
    "# it validates the values passed\n",
    "dt = time(10,39,61,98989)\n",
    "print(dt)"
   ]
  },
  {
   "cell_type": "code",
   "execution_count": 21,
   "id": "8325ce3c-b763-47ae-9156-4372afd30030",
   "metadata": {},
   "outputs": [
    {
     "name": "stdout",
     "output_type": "stream",
     "text": [
      "1999-03-10 10:59:00\n"
     ]
    }
   ],
   "source": [
    "from datetime import datetime\n",
    "\n",
    "dob_time = datetime(1999,3,10,10,59)\n",
    "print(dob_time)"
   ]
  },
  {
   "cell_type": "code",
   "execution_count": 29,
   "id": "7dcf9a12-c951-45b0-b90c-f60a3e5ed80f",
   "metadata": {},
   "outputs": [
    {
     "name": "stdout",
     "output_type": "stream",
     "text": [
      "36809 days, 0:00:00\n"
     ]
    }
   ],
   "source": [
    "# datetime additions not supported because it is not meaningful\n",
    "\n",
    "from datetime import datetime\n",
    "dt1 = datetime(1900,1,8)\n",
    "dt2 = datetime(2000,10,19)\n",
    "\n",
    "print(dt2 - dt1)"
   ]
  },
  {
   "cell_type": "code",
   "execution_count": 31,
   "id": "5b5ee335-959b-4414-a596-7ae0e4d59c11",
   "metadata": {},
   "outputs": [
    {
     "ename": "TypeError",
     "evalue": "unsupported operand type(s) for +: 'datetime.time' and 'datetime.timedelta'",
     "output_type": "error",
     "traceback": [
      "\u001b[1;31m---------------------------------------------------------------------------\u001b[0m",
      "\u001b[1;31mTypeError\u001b[0m                                 Traceback (most recent call last)",
      "Cell \u001b[1;32mIn[31], line 11\u001b[0m\n\u001b[0;32m      8\u001b[0m duration \u001b[38;5;241m=\u001b[39m timedelta(days\u001b[38;5;241m=\u001b[39m\u001b[38;5;241m10\u001b[39m,hours\u001b[38;5;241m=\u001b[39m\u001b[38;5;241m10\u001b[39m,minutes\u001b[38;5;241m=\u001b[39m\u001b[38;5;241m50\u001b[39m,milliseconds\u001b[38;5;241m=\u001b[39m\u001b[38;5;241m9000\u001b[39m)\n\u001b[0;32m     10\u001b[0m dt \u001b[38;5;241m+\u001b[39m duration\n\u001b[1;32m---> 11\u001b[0m tm\u001b[38;5;241m+\u001b[39mduration\n",
      "\u001b[1;31mTypeError\u001b[0m: unsupported operand type(s) for +: 'datetime.time' and 'datetime.timedelta'"
     ]
    }
   ],
   "source": [
    "from datetime import date\n",
    "from datetime import timedelta\n",
    "from datetime import time\n",
    "\n",
    "\n",
    "tm = time(8,10,19,8888)\n",
    "dt = date(1900,6,19)\n",
    "duration = timedelta(days=10,hours=10,minutes=50,milliseconds=9000)\n",
    "\n",
    "dt + duration\n",
    "# tm+duration ===> this doesn't work because adding duration without knowing which day the time is on makes no sense."
   ]
  },
  {
   "cell_type": "code",
   "execution_count": 27,
   "id": "8c219999-d394-46aa-883a-36cbf1328c12",
   "metadata": {},
   "outputs": [
    {
     "name": "stdout",
     "output_type": "stream",
     "text": [
      "5 days, 10:40:09\n",
      "1900-10-13 10:40:09\n"
     ]
    }
   ],
   "source": [
    "from datetime import timedelta\n",
    "from datetime import date\n",
    "from datetime import datetime\n",
    "\n",
    "\n",
    "duration = timedelta(days= 5, hours=10,minutes=40, milliseconds=9000)\n",
    "print(duration)\n",
    "\n",
    "ext = datetime(1900,10,8) + duration\n",
    "print(ext)"
   ]
  }
 ],
 "metadata": {
  "kernelspec": {
   "display_name": "Python 3 (ipykernel)",
   "language": "python",
   "name": "python3"
  },
  "language_info": {
   "codemirror_mode": {
    "name": "ipython",
    "version": 3
   },
   "file_extension": ".py",
   "mimetype": "text/x-python",
   "name": "python",
   "nbconvert_exporter": "python",
   "pygments_lexer": "ipython3",
   "version": "3.12.4"
  }
 },
 "nbformat": 4,
 "nbformat_minor": 5
}
