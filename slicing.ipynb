{
 "cells": [
  {
   "cell_type": "markdown",
   "id": "66bf8a91-2bdc-4be1-814c-2bf622a60fbd",
   "metadata": {},
   "source": [
    "# Sequences"
   ]
  },
  {
   "cell_type": "code",
   "execution_count": 4,
   "id": "48b8fe4c-2f02-4ca6-a5d5-985b68a7e864",
   "metadata": {},
   "outputs": [
    {
     "data": {
      "text/plain": [
       "'Kanchi'"
      ]
     },
     "execution_count": 4,
     "metadata": {},
     "output_type": "execute_result"
    }
   ],
   "source": [
    "str = \"Vishnu Teja Kanchi\"\n",
    "str[-6:]"
   ]
  },
  {
   "cell_type": "code",
   "execution_count": 6,
   "id": "b5bf0ff1-d509-4bbd-a19f-9bbdbd46679b",
   "metadata": {},
   "outputs": [
    {
     "data": {
      "text/plain": [
       "''"
      ]
     },
     "execution_count": 6,
     "metadata": {},
     "output_type": "execute_result"
    }
   ],
   "source": [
    "str = \"Vishnu Teja Kanchi\"\n",
    "str[-1:-7]"
   ]
  },
  {
   "cell_type": "code",
   "execution_count": 9,
   "id": "b438f5dc-9395-4c1b-86cf-e7fe5f91189c",
   "metadata": {},
   "outputs": [
    {
     "data": {
      "text/plain": [
       "'Vn'"
      ]
     },
     "execution_count": 9,
     "metadata": {},
     "output_type": "execute_result"
    }
   ],
   "source": [
    "str[0:5:4]"
   ]
  },
  {
   "cell_type": "code",
   "execution_count": 10,
   "id": "442a3416-d96f-4aa7-8294-699641841c0f",
   "metadata": {},
   "outputs": [
    {
     "data": {
      "text/plain": [
       "'V'"
      ]
     },
     "execution_count": 10,
     "metadata": {},
     "output_type": "execute_result"
    }
   ],
   "source": [
    "str[0::50]"
   ]
  },
  {
   "cell_type": "code",
   "execution_count": 11,
   "id": "b8cd8222-b8ec-4146-a905-c8f8560e77a3",
   "metadata": {},
   "outputs": [
    {
     "data": {
      "text/plain": [
       "'V'"
      ]
     },
     "execution_count": 11,
     "metadata": {},
     "output_type": "execute_result"
    }
   ],
   "source": [
    "str[0::len(str)]"
   ]
  },
  {
   "cell_type": "code",
   "execution_count": 13,
   "id": "9b992aa3-719a-4534-8b42-55fd4ee9fc77",
   "metadata": {},
   "outputs": [
    {
     "data": {
      "text/plain": [
       "'Vishnu Teja Kanchi'"
      ]
     },
     "execution_count": 13,
     "metadata": {},
     "output_type": "execute_result"
    }
   ],
   "source": [
    "str[::1]"
   ]
  },
  {
   "cell_type": "code",
   "execution_count": 14,
   "id": "8c7a272f-5467-427c-8f14-cfadec017b27",
   "metadata": {},
   "outputs": [
    {
     "ename": "ValueError",
     "evalue": "slice step cannot be zero",
     "output_type": "error",
     "traceback": [
      "\u001b[1;31m---------------------------------------------------------------------------\u001b[0m",
      "\u001b[1;31mValueError\u001b[0m                                Traceback (most recent call last)",
      "Cell \u001b[1;32mIn[14], line 1\u001b[0m\n\u001b[1;32m----> 1\u001b[0m \u001b[38;5;28mstr\u001b[39m[::\u001b[38;5;241m0\u001b[39m]\n",
      "\u001b[1;31mValueError\u001b[0m: slice step cannot be zero"
     ]
    }
   ],
   "source": [
    "str[::0]"
   ]
  },
  {
   "cell_type": "code",
   "execution_count": 15,
   "id": "925d00a6-a7a1-48ee-b9fb-0537dc8dfd60",
   "metadata": {},
   "outputs": [
    {
     "data": {
      "text/plain": [
       "'Vishnu Teja Kanchi'"
      ]
     },
     "execution_count": 15,
     "metadata": {},
     "output_type": "execute_result"
    }
   ],
   "source": [
    "str"
   ]
  },
  {
   "cell_type": "code",
   "execution_count": 19,
   "id": "3d6af285-b0f6-4072-841d-4d4ce4d593bf",
   "metadata": {},
   "outputs": [
    {
     "data": {
      "text/plain": [
       "10"
      ]
     },
     "execution_count": 19,
     "metadata": {},
     "output_type": "execute_result"
    }
   ],
   "source": [
    "# Index is actual index and not the position.\n",
    "str.index('a',0,len(str))"
   ]
  },
  {
   "cell_type": "code",
   "execution_count": 24,
   "id": "0b2ad961-c421-4af4-8238-aa17c57478da",
   "metadata": {},
   "outputs": [
    {
     "data": {
      "text/plain": [
       "'a Kanchi'"
      ]
     },
     "execution_count": 24,
     "metadata": {},
     "output_type": "execute_result"
    }
   ],
   "source": [
    "str[str.index('a',0,len(str))::]"
   ]
  }
 ],
 "metadata": {
  "kernelspec": {
   "display_name": "Python 3 (ipykernel)",
   "language": "python",
   "name": "python3"
  },
  "language_info": {
   "codemirror_mode": {
    "name": "ipython",
    "version": 3
   },
   "file_extension": ".py",
   "mimetype": "text/x-python",
   "name": "python",
   "nbconvert_exporter": "python",
   "pygments_lexer": "ipython3",
   "version": "3.12.4"
  }
 },
 "nbformat": 4,
 "nbformat_minor": 5
}
