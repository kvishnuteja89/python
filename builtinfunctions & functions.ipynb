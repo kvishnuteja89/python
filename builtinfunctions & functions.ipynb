{
 "cells": [
  {
   "cell_type": "code",
   "execution_count": 7,
   "id": "64808b1a-8553-4504-91dd-96bfe58ccc99",
   "metadata": {},
   "outputs": [
    {
     "name": "stdout",
     "output_type": "stream",
     "text": [
      "{1, 2, 3, 4}\n"
     ]
    }
   ],
   "source": [
    "set1 = {1,2,2,3,4}\n",
    "\n",
    "min(set1)\n",
    "max(set1)\n",
    "len(set1)\n",
    "print(set1)"
   ]
  },
  {
   "cell_type": "markdown",
   "id": "0f7e3e5a-a63e-41ea-9d3a-4d9d5b06dfaa",
   "metadata": {},
   "source": [
    "# We can use mandatory, optional and Keyword arguments in Python"
   ]
  },
  {
   "cell_type": "code",
   "execution_count": 9,
   "id": "b26da9fc-333d-4d39-8281-fb4a9a61d399",
   "metadata": {},
   "outputs": [
    {
     "name": "stdout",
     "output_type": "stream",
     "text": [
      "Welcome Vishnu to Halifax\n"
     ]
    }
   ],
   "source": [
    "def greetings(a,b):\n",
    "    print(f\"Welcome {a} to {b}\")\n",
    "\n",
    "greetings(\"Vishnu\", \"Halifax\")"
   ]
  },
  {
   "cell_type": "code",
   "execution_count": 12,
   "id": "496c71cb-1705-48ef-a227-8e660df69a48",
   "metadata": {},
   "outputs": [
    {
     "ename": "SyntaxError",
     "evalue": "parameter without a default follows parameter with a default (60594994.py, line 1)",
     "output_type": "error",
     "traceback": [
      "\u001b[1;36m  Cell \u001b[1;32mIn[12], line 1\u001b[1;36m\u001b[0m\n\u001b[1;33m    def greetings(a=\"Vishnu\",b):\u001b[0m\n\u001b[1;37m                             ^\u001b[0m\n\u001b[1;31mSyntaxError\u001b[0m\u001b[1;31m:\u001b[0m parameter without a default follows parameter with a default\n"
     ]
    }
   ],
   "source": [
    "def greetings(a=\"Vishnu\",b):\n",
    "    print(f\"Welcome {a} to {b}\")\n",
    "\n",
    "greetings(\"Maanvi\", \"Halifax\")"
   ]
  },
  {
   "cell_type": "code",
   "execution_count": 13,
   "id": "073c2c3b-34ba-4715-ad3b-5165d116708c",
   "metadata": {},
   "outputs": [
    {
     "name": "stdout",
     "output_type": "stream",
     "text": [
      "Welcome Vishnu to Halifax\n"
     ]
    }
   ],
   "source": [
    "def greetings(a,b=\"Halifax\"):\n",
    "    print(f\"Welcome {a} to {b}\")\n",
    "\n",
    "greetings(\"Vishnu\")"
   ]
  },
  {
   "cell_type": "code",
   "execution_count": 14,
   "id": "28de1506-749c-4fa7-a711-b241c1a1d95d",
   "metadata": {},
   "outputs": [
    {
     "name": "stdout",
     "output_type": "stream",
     "text": [
      "Welcome Star to World\n"
     ]
    }
   ],
   "source": [
    "def greetings(a,b=\"Halifax\"):\n",
    "    print(f\"Welcome {a} to {b}\")\n",
    "\n",
    "\n",
    "greetings(a=\"Star\", b=\"World\")"
   ]
  },
  {
   "cell_type": "code",
   "execution_count": 17,
   "id": "0a92920a-0d23-475c-8d72-827e5155213e",
   "metadata": {},
   "outputs": [
    {
     "name": "stdout",
     "output_type": "stream",
     "text": [
      "Vishnu\n",
      "['dosa', 'puri', 'vada']\n",
      "['dosa', 'puri', 'vada']\n"
     ]
    }
   ],
   "source": [
    "def order(customer, items):\n",
    "    print(customer)\n",
    "    print(items)\n",
    "    print(str(items))\n",
    "\n",
    "order(\"Vishnu\", ['dosa','puri','vada'])"
   ]
  },
  {
   "cell_type": "code",
   "execution_count": 3,
   "id": "dd86a079-6cdf-4955-a0f8-102b930d1e36",
   "metadata": {},
   "outputs": [
    {
     "name": "stdout",
     "output_type": "stream",
     "text": [
      "Vishnu\n",
      "('dosa', 'puri', 'vada')\n"
     ]
    }
   ],
   "source": [
    "def order(customer, *items):\n",
    "    print(customer)\n",
    "    print(items)\n",
    "\n",
    "order(\"Vishnu\",'dosa','puri','vada')"
   ]
  },
  {
   "cell_type": "code",
   "execution_count": 22,
   "id": "1a6c20b4-f8dc-4358-8c5a-9605c6a04188",
   "metadata": {},
   "outputs": [
    {
     "name": "stdout",
     "output_type": "stream",
     "text": [
      "customer Vishnu\n",
      "items ('Curd', 'Milk')\n",
      "type Pickup\n",
      "item_dict {'soaps': 2, 'brushes': 5}\n"
     ]
    }
   ],
   "source": [
    "def book_groceries(customer, *items, type=\"Delivery\", **item_dict):\n",
    "    print(\"customer\", customer)\n",
    "    print(\"items\", items)\n",
    "    print(\"type\", type)\n",
    "    print(\"item_dict\", item_dict)\n",
    "\n",
    "book_groceries(\"Vishnu\",\"Curd\",\"Milk\",type=\"Pickup\", soaps=2, brushes = 5)\n",
    "    "
   ]
  },
  {
   "cell_type": "code",
   "execution_count": 4,
   "id": "80de65ec-817c-4e1a-9c43-36ca34870bd5",
   "metadata": {},
   "outputs": [
    {
     "name": "stdout",
     "output_type": "stream",
     "text": [
      "customer Vishnu\n",
      "items (['Curd', 'Milk'],)\n",
      "type Pickup\n",
      "item_dict {'soaps': 2, 'brushes': 5}\n"
     ]
    }
   ],
   "source": [
    "def book_groceries(customer, *items, type=\"Delivery\", **item_dict):\n",
    "    print(\"customer\", customer)\n",
    "    print(\"items\", items)\n",
    "    print(\"type\", type)\n",
    "    print(\"item_dict\", item_dict)\n",
    "\n",
    "item_args = [\"Curd\", \"Milk\"]\n",
    "\n",
    "book_groceries(\"Vishnu\",item_args,type=\"Pickup\", soaps=2, brushes = 5)"
   ]
  },
  {
   "cell_type": "code",
   "execution_count": 20,
   "id": "d1ca8d0c-66dd-4b63-ac00-79efc97ec4d0",
   "metadata": {},
   "outputs": [
    {
     "ename": "SyntaxError",
     "evalue": "arguments cannot follow var-keyword argument (3441013073.py, line 1)",
     "output_type": "error",
     "traceback": [
      "\u001b[1;36m  Cell \u001b[1;32mIn[20], line 1\u001b[1;36m\u001b[0m\n\u001b[1;33m    def book_groceries( *items, **item_dict, **dicc_a):\u001b[0m\n\u001b[1;37m                                             ^\u001b[0m\n\u001b[1;31mSyntaxError\u001b[0m\u001b[1;31m:\u001b[0m arguments cannot follow var-keyword argument\n"
     ]
    }
   ],
   "source": [
    "def book_groceries(customer, *items, type=\"Delivery\", **item_dict):\n",
    "    print(\"customer\", customer)\n",
    "    print(\"items\", items)\n",
    "    print(\"type\", type)\n",
    "    print(\"item_dict\", item_dict)\n",
    "\n",
    "item_args = [\"Curd\", \"Milk\"]\n",
    "dict_args = dict(soap=2,brushes=5)\n",
    "\n",
    "book_groceries(\"Vishnu\",*item_args, type=\"Pickup\", **dict_args, **dict_a)"
   ]
  },
  {
   "cell_type": "code",
   "execution_count": 6,
   "id": "8aa5808c-efdd-443d-ae71-928e458bc0d9",
   "metadata": {},
   "outputs": [
    {
     "name": "stdout",
     "output_type": "stream",
     "text": [
      "5\n"
     ]
    }
   ],
   "source": [
    "la = lambda x,y : x+y\n",
    "print(la(2,3))"
   ]
  }
 ],
 "metadata": {
  "kernelspec": {
   "display_name": "Python 3 (ipykernel)",
   "language": "python",
   "name": "python3"
  },
  "language_info": {
   "codemirror_mode": {
    "name": "ipython",
    "version": 3
   },
   "file_extension": ".py",
   "mimetype": "text/x-python",
   "name": "python",
   "nbconvert_exporter": "python",
   "pygments_lexer": "ipython3",
   "version": "3.12.4"
  }
 },
 "nbformat": 4,
 "nbformat_minor": 5
}
