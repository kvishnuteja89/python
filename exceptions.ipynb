{
 "cells": [
  {
   "cell_type": "code",
   "execution_count": 4,
   "id": "41f253d4-b66e-4f0e-a764-4c37e6c8ce7c",
   "metadata": {},
   "outputs": [
    {
     "name": "stdin",
     "output_type": "stream",
     "text": [
      "Enter a value a\n"
     ]
    },
    {
     "name": "stdout",
     "output_type": "stream",
     "text": [
      "Entered incorrect value\n"
     ]
    }
   ],
   "source": [
    "try:\n",
    "    n = int(input(\"Enter a value\"))\n",
    "    print(n)\n",
    "\n",
    "except ValueError:\n",
    "    print(\"Entered incorrect value\")"
   ]
  },
  {
   "cell_type": "code",
   "execution_count": 16,
   "id": "7ccddb43-f64e-452e-b93c-4bbbea946d0b",
   "metadata": {},
   "outputs": [
    {
     "name": "stdout",
     "output_type": "stream",
     "text": [
      "File Not Found!!\n"
     ]
    }
   ],
   "source": [
    "try:\n",
    "    file = open('C:/vishnu/aws.tt', 'r')\n",
    "except FileNotFoundError:\n",
    "    print(\"File Not Found!!\")\n",
    "for line in file:\n",
    "    print(line)"
   ]
  },
  {
   "cell_type": "code",
   "execution_count": 28,
   "id": "9d8fc0f3-f0b3-47b6-916a-1b1f1fd76c5b",
   "metadata": {},
   "outputs": [
    {
     "name": "stdout",
     "output_type": "stream",
     "text": [
      "63.400000000000006\n"
     ]
    }
   ],
   "source": [
    "def fun(loc, divisor):\n",
    "    sum = 0\n",
    "    fl = open(loc,'r')\n",
    "    for each in fl:\n",
    "        sum += int(each)/divisor\n",
    "    return sum\n",
    "\n",
    "sum= fun(\"C:/vishnu/learning/python/nums.txt\", 10)\n",
    "print(sum)\n",
    "        "
   ]
  },
  {
   "cell_type": "code",
   "execution_count": 31,
   "id": "3ee3e2d1-239e-4a6d-aa84-6310fa3636ba",
   "metadata": {},
   "outputs": [],
   "source": [
    "class DieException(Exception):\n",
    "    pass\n",
    "\n",
    "class DieLessThanZero(DieException):\n",
    "    pass\n",
    "\n",
    "class DieGreaterThanSix(DieException):\n",
    "    pass"
   ]
  },
  {
   "cell_type": "code",
   "execution_count": 38,
   "id": "acd2eda8-56b5-4c82-9d00-f6cfe962b4ec",
   "metadata": {},
   "outputs": [
    {
     "name": "stdout",
     "output_type": "stream",
     "text": [
      "Die Can;t be less than or equal Zero\n"
     ]
    }
   ],
   "source": [
    "def fun(input):\n",
    "        if input<=0:\n",
    "            raise DieLessThanZero(\"Die Can;t be less than or equal Zero\")\n",
    "        elif input>6:\n",
    "            raise DieGreaterThanSix(\"Die can't be greater than 6\")\n",
    "        else:\n",
    "            print(input)\n",
    "try:\n",
    "    fun(0)\n",
    "\n",
    "except DieLessThanZero as err:\n",
    "    print(err)\n",
    "\n",
    "except DieGreaterThanSix:\n",
    "    print(\"Input > 6\")\n",
    "\n",
    "except Exception:\n",
    "    print(\"Something wrong!\")\n"
   ]
  }
 ],
 "metadata": {
  "kernelspec": {
   "display_name": "Python 3 (ipykernel)",
   "language": "python",
   "name": "python3"
  },
  "language_info": {
   "codemirror_mode": {
    "name": "ipython",
    "version": 3
   },
   "file_extension": ".py",
   "mimetype": "text/x-python",
   "name": "python",
   "nbconvert_exporter": "python",
   "pygments_lexer": "ipython3",
   "version": "3.12.4"
  }
 },
 "nbformat": 4,
 "nbformat_minor": 5
}
