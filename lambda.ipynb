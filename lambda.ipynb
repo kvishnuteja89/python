{
 "cells": [
  {
   "cell_type": "code",
   "execution_count": 3,
   "id": "0a0d9621-2e9f-4cee-8482-0d0a2ba62120",
   "metadata": {},
   "outputs": [
    {
     "data": {
      "text/plain": [
       "<function __main__.<lambda>(x, y)>"
      ]
     },
     "execution_count": 3,
     "metadata": {},
     "output_type": "execute_result"
    }
   ],
   "source": [
    "lambda x,y: x+y"
   ]
  },
  {
   "cell_type": "code",
   "execution_count": 1,
   "id": "07e0e772-2bbd-4874-9bcd-eb3b978b5769",
   "metadata": {},
   "outputs": [
    {
     "data": {
      "text/plain": [
       "{'total': 16849256448,\n",
       " 'available': 6838525952,\n",
       " 'percent': 59.4,\n",
       " 'used': 10010730496,\n",
       " 'free': 6838525952}"
      ]
     },
     "execution_count": 1,
     "metadata": {},
     "output_type": "execute_result"
    }
   ],
   "source": [
    "#!/usr/bin/env python\n",
    "import psutil\n",
    "# gives a single float value\n",
    "psutil.cpu_percent()\n",
    "# gives an object with many fields\n",
    "psutil.virtual_memory()\n",
    "# you can convert that object to a dictionary \n",
    "dict(psutil.virtual_memory()._asdict())"
   ]
  },
  {
   "cell_type": "code",
   "execution_count": 4,
   "id": "c2c43d84-bc53-486f-99c6-7bf07ac42cb2",
   "metadata": {},
   "outputs": [],
   "source": [
    "f = lambda x,y : x+y"
   ]
  },
  {
   "cell_type": "code",
   "execution_count": 5,
   "id": "d10ae9ab-722f-45fd-a652-f3588fbc82f0",
   "metadata": {},
   "outputs": [
    {
     "data": {
      "text/plain": [
       "30"
      ]
     },
     "execution_count": 5,
     "metadata": {},
     "output_type": "execute_result"
    }
   ],
   "source": [
    "f(10,20)"
   ]
  },
  {
   "cell_type": "code",
   "execution_count": 6,
   "id": "83a48aaa-77aa-4d6d-99fe-3d916bc12a98",
   "metadata": {},
   "outputs": [
    {
     "name": "stdout",
     "output_type": "stream",
     "text": [
      "(1, 2, 3, 4)\n"
     ]
    },
    {
     "data": {
      "text/plain": [
       "10"
      ]
     },
     "execution_count": 6,
     "metadata": {},
     "output_type": "execute_result"
    }
   ],
   "source": [
    "def fun(*args, met):\n",
    "    print(args)\n",
    "    return met(args)\n",
    "\n",
    "lst = (1,2,3,4)\n",
    "fun(*lst, met=sum)\n"
   ]
  },
  {
   "cell_type": "code",
   "execution_count": 8,
   "id": "c9752611-3765-423c-9c09-acf3ed1a7229",
   "metadata": {},
   "outputs": [
    {
     "name": "stdout",
     "output_type": "stream",
     "text": [
      "([1, 2, 3, 4],)\n"
     ]
    },
    {
     "data": {
      "text/plain": [
       "1"
      ]
     },
     "execution_count": 8,
     "metadata": {},
     "output_type": "execute_result"
    }
   ],
   "source": [
    "def fun(*args, met):\n",
    "    print(args)\n",
    "    return met(args)\n",
    "\n",
    "fun([1,2,3,4], met=len)"
   ]
  },
  {
   "cell_type": "code",
   "execution_count": 19,
   "id": "a4573883-b9da-406a-b47d-6654f2df6c57",
   "metadata": {},
   "outputs": [
    {
     "data": {
      "text/plain": [
       "4"
      ]
     },
     "execution_count": 19,
     "metadata": {},
     "output_type": "execute_result"
    }
   ],
   "source": [
    "arr = (1,2,3,4)\n",
    "len(arr)"
   ]
  }
 ],
 "metadata": {
  "kernelspec": {
   "display_name": "Python 3 (ipykernel)",
   "language": "python",
   "name": "python3"
  },
  "language_info": {
   "codemirror_mode": {
    "name": "ipython",
    "version": 3
   },
   "file_extension": ".py",
   "mimetype": "text/x-python",
   "name": "python",
   "nbconvert_exporter": "python",
   "pygments_lexer": "ipython3",
   "version": "3.12.4"
  }
 },
 "nbformat": 4,
 "nbformat_minor": 5
}
