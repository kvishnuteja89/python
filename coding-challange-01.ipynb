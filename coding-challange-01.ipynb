{
 "cells": [
  {
   "cell_type": "markdown",
   "metadata": {},
   "source": [
    "# Coding Challange - 01"
   ]
  },
  {
   "cell_type": "markdown",
   "metadata": {},
   "source": [
    "### Question 1:\n",
    "\n",
    "Print the following tuple in reverse order.\n",
    "\n",
    "tuple_1 = (22, 65, 12, 54)\n",
    "\n",
    "#### Expected Output:\n",
    "\n",
    "(54, 12, 65, 22)"
   ]
  },
  {
   "cell_type": "code",
   "execution_count": 7,
   "metadata": {},
   "outputs": [
    {
     "name": "stdout",
     "output_type": "stream",
     "text": [
      "(54, 12, 65, 22)\n"
     ]
    }
   ],
   "source": [
    "tuple_1 = (22, 65, 12, 54)\n",
    "tup = tuple_1[::-1]\n",
    "print(tup)"
   ]
  },
  {
   "cell_type": "markdown",
   "metadata": {},
   "source": [
    "### Question 2:\n",
    "\n",
    "Access the name 'David' from the list given below.\n",
    "\n",
    "myList = [(2, 14, 'David'), [2, 7], 'Shaun']\n",
    "\n",
    "##### Expected Output:\n",
    "\n",
    "'David'"
   ]
  },
  {
   "cell_type": "code",
   "execution_count": 10,
   "metadata": {},
   "outputs": [
    {
     "data": {
      "text/plain": [
       "'David'"
      ]
     },
     "execution_count": 10,
     "metadata": {},
     "output_type": "execute_result"
    }
   ],
   "source": [
    "myList = [(2, 14, 'David'), [2, 7], 'Shaun']\n",
    "myList[0][2]"
   ]
  },
  {
   "cell_type": "markdown",
   "metadata": {},
   "source": [
    "### Question 3:\n",
    "\n",
    "We have a set and a dictionary given below. Print the set once again after adding the keys of the dictionary to the set. The order of the expected output may vary as it is a set.\n",
    "\n",
    "mySet = {2, 4, 6}\n",
    "\n",
    "myDict = {'A':'John', 'B':'Emma', 'C':'Sam'}\n",
    "\n",
    "##### Expected Output:\n",
    "\n",
    "{2, 4, 6, 'A', 'C', 'B'}"
   ]
  },
  {
   "cell_type": "code",
   "execution_count": 13,
   "metadata": {},
   "outputs": [
    {
     "name": "stdout",
     "output_type": "stream",
     "text": [
      "{2, 4, 6, 'B', 'C', 'A'}\n"
     ]
    }
   ],
   "source": [
    "mySet = {2, 4, 6}\n",
    "\n",
    "myDict = {'A':'John', 'B':'Emma', 'C':'Sam'}\n",
    "# permanent operation\n",
    "mySet.update(myDict.keys())\n",
    "print(mySet)"
   ]
  },
  {
   "cell_type": "markdown",
   "metadata": {},
   "source": [
    "### Question 4:\n",
    "We have two sets given below. Print all the items from these sets after removing the duplicates.\n",
    "\n",
    "set_1 = {2, 4, 6, 8}\n",
    "<br>set_2 = {6, 8, 10, 12}\n",
    "\n",
    "#### Expected Output:\n",
    "\n",
    "{2, 4, 6, 8, 10, 12}"
   ]
  },
  {
   "cell_type": "code",
   "execution_count": 22,
   "metadata": {},
   "outputs": [
    {
     "name": "stdout",
     "output_type": "stream",
     "text": [
      "{2, 4, 6, 8, 10, 12}\n"
     ]
    }
   ],
   "source": [
    "set_1 = {2, 4, 6, 8}\n",
    "set_2 = {6, 8, 10, 12}\n",
    "out = set_1.union(set_2)\n",
    "print(out)"
   ]
  },
  {
   "cell_type": "markdown",
   "metadata": {},
   "source": [
    "### Question 5:\n",
    "Write a Python program to print the first and the last second of the day.\n",
    "\n",
    "#### Expected Output:\n",
    "\n",
    "First Second:  00:00:00\n",
    "<br>Last Second:  23:59:59.999999"
   ]
  },
  {
   "cell_type": "code",
   "execution_count": 24,
   "metadata": {},
   "outputs": [
    {
     "name": "stdout",
     "output_type": "stream",
     "text": [
      "00:00:00\n",
      "23:59:59.999999\n"
     ]
    }
   ],
   "source": [
    "from datetime import time\n",
    "print(time.min)\n",
    "print(time.max)\n"
   ]
  },
  {
   "cell_type": "markdown",
   "metadata": {},
   "source": [
    "### Question 6:\n",
    "\n",
    "Print the total number of digits in the number given below.\n",
    "\n",
    "num = 8842\n",
    "\n",
    "#### Expected Output:\n",
    "\n",
    "Total digits are:  4"
   ]
  },
  {
   "cell_type": "code",
   "execution_count": 28,
   "metadata": {},
   "outputs": [
    {
     "name": "stdout",
     "output_type": "stream",
     "text": [
      "4\n"
     ]
    }
   ],
   "source": [
    "num = 8842\n",
    "count = 0\n",
    "while num>0:\n",
    "    count+=1\n",
    "    num = num//10\n",
    "\n",
    "print(count)"
   ]
  },
  {
   "cell_type": "markdown",
   "metadata": {},
   "source": [
    "### Question 7:\n",
    "\n",
    "We have a list of lists that contains several numbers. I want you to print the list whose sum of elements is the highest and also the lowest.\n",
    "\n",
    "num_list = [[2, 8, 11], [4, 5, 7, 12], [8, 9, 10, 11], [19, 13, 7], [2, 5, 16]]\n",
    "\n",
    "#### Expected Output:\n",
    "\n",
    "The list with the maximum sum of elements:  [19, 13, 7]\n",
    "<br>The list with the minimum sum of elements:  [2, 8, 11]"
   ]
  },
  {
   "cell_type": "code",
   "execution_count": 89,
   "metadata": {},
   "outputs": [
    {
     "name": "stdout",
     "output_type": "stream",
     "text": [
      "[19, 13, 7]\n",
      "[2, 8, 11]\n"
     ]
    }
   ],
   "source": [
    "num_list = [[2, 8, 11], [4, 5, 7, 12], [8, 9, 10, 11], [19, 13, 7], [2, 5, 16]]\n",
    "lst = []\n",
    "\n",
    "for (x,y) in enumerate(num_list):\n",
    "    lst.append(sum(y))\n",
    "\n",
    "# print(lst)\n",
    "# print(num_list[lst.index(max(lst))])\n",
    "# print(num_list[lst.index(min(lst))])\n",
    "\n",
    "print(max(num_list, key=sum))\n",
    "print(min(num_list, key= sum))\n"
   ]
  },
  {
   "cell_type": "markdown",
   "metadata": {},
   "source": [
    "### Question 8:\n",
    "\n",
    "We have a string that contains the names of different fruits. I want you to convert this string into multiple substrings where each substring includes one fruit's name.\n",
    "\n",
    "fruits_string = \" Apple, Banana, Mango, Kiwi, Guava, Grapes, Pomegranate, Orange, Watermelon\"\n",
    "\n",
    "#### Expected Output:\n",
    "\n",
    " Apple\n",
    " <br>Banana\n",
    " <br>Mango\n",
    " <br>Kiwi\n",
    " <br>Guava\n",
    " <br>Grapes\n",
    " <br>Pomegranate\n",
    " <br>Orange\n",
    " <br>Watermelon"
   ]
  },
  {
   "cell_type": "code",
   "execution_count": 54,
   "metadata": {},
   "outputs": [
    {
     "name": "stdout",
     "output_type": "stream",
     "text": [
      " Apple\n",
      " Banana\n",
      " Mango\n",
      " Kiwi\n",
      " Guava\n",
      " Grapes\n",
      " Pomegranate\n",
      " Orange\n",
      " Watermelon\n"
     ]
    }
   ],
   "source": [
    "fruits_string = \" Apple, Banana, Mango, Kiwi, Guava, Grapes, Pomegranate, Orange, Watermelon\"\n",
    "allfruits = fruits_string.split(\",\")\n",
    "\n",
    "for i in allfruits:\n",
    "    print(i)"
   ]
  },
  {
   "cell_type": "markdown",
   "metadata": {},
   "source": [
    "### Question 9:\n",
    "\n",
    "Write a program to reverse words in a string.\n",
    "\n",
    "sample_text = \"Python is a high-level and general-purpose programming language\"\n",
    "\n",
    "#### Expected Output:\n",
    "\n",
    "language programming general-purpose and high-level a is Python"
   ]
  },
  {
   "cell_type": "code",
   "execution_count": 90,
   "metadata": {},
   "outputs": [
    {
     "name": "stdout",
     "output_type": "stream",
     "text": [
      "language programming general-purpose and high-level a is Python\n"
     ]
    }
   ],
   "source": [
    "sample_text = \"Python is a high-level and general-purpose programming language\"\n",
    "# strarr = sample_text.split(\" \")\n",
    "# l = len(strarr)\n",
    "# i=0\n",
    "# str = ''\n",
    "\n",
    "# strarr.reverse()\n",
    "# print(strarr)\n",
    "\n",
    "# while i<l:\n",
    "#     str = str +strarr[l-i-1] + \" \"\n",
    "#     i+=1\n",
    "\n",
    "# print(str)\n",
    "\n",
    "\n",
    "print(\" \".join(sample_text.split(\" \")[::-1]))"
   ]
  },
  {
   "cell_type": "markdown",
   "metadata": {},
   "source": [
    "### Question 10:\n",
    "\n",
    "Given below is the height (in cm) of the top 10 students in a class. Print the heights of the top 3 students from the given list.\n",
    "\n",
    "heights = [177, 160, 171, 163, 168,  175, 176, 183, 162, 170]\n",
    "\n",
    "#### Expected Output:\n",
    "\n",
    "Top Three Heights:  [183, 177, 176]"
   ]
  },
  {
   "cell_type": "code",
   "execution_count": 81,
   "metadata": {},
   "outputs": [
    {
     "name": "stdout",
     "output_type": "stream",
     "text": [
      "[183, 177, 176]\n"
     ]
    }
   ],
   "source": [
    "heights = [177, 160, 171, 163, 168, 175, 176, 183, 162, 170]\n",
    "heights.sort(reverse=True)\n",
    "print(heights[0:3])"
   ]
  }
 ],
 "metadata": {
  "kernelspec": {
   "display_name": "Python 3 (ipykernel)",
   "language": "python",
   "name": "python3"
  },
  "language_info": {
   "codemirror_mode": {
    "name": "ipython",
    "version": 3
   },
   "file_extension": ".py",
   "mimetype": "text/x-python",
   "name": "python",
   "nbconvert_exporter": "python",
   "pygments_lexer": "ipython3",
   "version": "3.12.4"
  }
 },
 "nbformat": 4,
 "nbformat_minor": 4
}
